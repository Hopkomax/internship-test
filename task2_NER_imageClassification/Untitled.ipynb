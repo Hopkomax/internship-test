{
 "cells": [
  {
   "cell_type": "code",
   "execution_count": 1,
   "id": "86dd9a39-16bc-4020-9b94-9fdc3a0760ec",
   "metadata": {},
   "outputs": [
    {
     "name": "stdout",
     "output_type": "stream",
     "text": [
      "F:\\gitRepo\\internship-test\\task2_NER_imageClassification\\venv\\Scripts\\python.exe\n",
      "C:\\Program Files\\Python311\\python.exe\n",
      "C:\\Users\\gopko\\AppData\\Local\\Microsoft\\WindowsApps\\python.exe\n"
     ]
    }
   ],
   "source": [
    "!where python"
   ]
  },
  {
   "cell_type": "code",
   "execution_count": 1,
   "id": "b47e9b9f-dd04-4faa-b0e1-402368d1fc40",
   "metadata": {},
   "outputs": [
    {
     "name": "stdout",
     "output_type": "stream",
     "text": [
      "F:\\gitRepo\\internship-test\\task2_NER_imageClassification\\venv\\Scripts\\python.exe\n"
     ]
    }
   ],
   "source": [
    "import sys\n",
    "print(sys.executable)"
   ]
  },
  {
   "cell_type": "code",
   "execution_count": 2,
   "id": "42801a94-e3a7-4a75-aa7c-a57dd5d5d497",
   "metadata": {},
   "outputs": [
    {
     "name": "stdout",
     "output_type": "stream",
     "text": [
      "Available kernels:\n",
      "  python3          F:\\gitRepo\\internship-test\\task2_NER_imageClassification\\venv\\share\\jupyter\\kernels\\python3\n",
      "  resume-ml-env    C:\\Users\\gopko\\AppData\\Roaming\\jupyter\\kernels\\resume-ml-env\n",
      "  venv             C:\\Users\\gopko\\AppData\\Roaming\\jupyter\\kernels\\venv\n",
      "  venv-task1       C:\\Users\\gopko\\AppData\\Roaming\\jupyter\\kernels\\venv-task1\n"
     ]
    }
   ],
   "source": [
    "!jupyter kernelspec list\n"
   ]
  },
  {
   "cell_type": "code",
   "execution_count": null,
   "id": "f39559a5-c656-4300-b855-750b4446066f",
   "metadata": {},
   "outputs": [],
   "source": []
  }
 ],
 "metadata": {
  "kernelspec": {
   "display_name": "Python (venv)",
   "language": "python",
   "name": "venv"
  },
  "language_info": {
   "codemirror_mode": {
    "name": "ipython",
    "version": 3
   },
   "file_extension": ".py",
   "mimetype": "text/x-python",
   "name": "python",
   "nbconvert_exporter": "python",
   "pygments_lexer": "ipython3",
   "version": "3.11.6"
  }
 },
 "nbformat": 4,
 "nbformat_minor": 5
}
