{
 "cells": [
  {
   "cell_type": "code",
   "execution_count": null,
   "id": "f9f9c795-520f-443d-98b4-831d0c18a0f1",
   "metadata": {},
   "outputs": [],
   "source": [
    "import numpy as np\n",
    "import matplotlib.pyplot as plt\n",
    "from tensorflow.keras.datasets import mnist\n",
    "from sklearn.metrics import accuracy_score\n",
    "\n",
    "# Import the RandomForestModel from the src folder\n",
    "# Adjust the sys.path if necessary to include the project root\n",
    "import sys\n",
    "sys.path.append(\"F:/gitRepo/internship-test/task1_image_classification\")\n",
    "\n",
    "from src.rf_model import RandomForestModel\n",
    "\n",
    "# Load the MNIST dataset\n",
    "(X_train, y_train), (X_test, y_test) = mnist.load_data()\n",
    "\n",
    "# Normalize the data to the [0, 1] range\n",
    "X_train = X_train / 255.0\n",
    "X_test = X_test / 255.0\n",
    "\n",
    "# Instantiate and train the Random Forest model\n",
    "rf_model = RandomForestModel()\n",
    "rf_model.train(X_train, y_train)\n",
    "\n",
    "# Use the model to predict on the test set\n",
    "predictions = rf_model.predict(X_test)\n",
    "\n",
    "# Evaluate the model's accuracy\n",
    "accuracy = accuracy_score(y_test, predictions)\n",
    "print(\"Random Forest Accuracy on MNIST Test Data:\", accuracy)\n",
    "\n",
    "# Display a sample image along with predicted and true labels\n",
    "sample_index = 0  # Change this index to view other samples\n",
    "plt.imshow(X_test[sample_index], cmap='gray')\n",
    "plt.title(f\"Predicted: {predictions[sample_index]}, True: {y_test[sample_index]}\")\n",
    "plt.show()\n"
   ]
  },
  {
   "cell_type": "code",
   "execution_count": 1,
   "id": "d17c3e62-a032-4f78-93dd-2cbda0373aaa",
   "metadata": {},
   "outputs": [
    {
     "name": "stdout",
     "output_type": "stream",
     "text": [
      "C:\\Program Files\\Python311\\python.exe\n"
     ]
    }
   ],
   "source": [
    "import sys\n",
    "print(sys.executable)\n"
   ]
  },
  {
   "cell_type": "code",
   "execution_count": 2,
   "id": "f02b2b54-a54e-4f1f-b22b-002d2e5a9258",
   "metadata": {},
   "outputs": [
    {
     "name": "stdout",
     "output_type": "stream",
     "text": [
      "All required packages are working correctly!\n"
     ]
    }
   ],
   "source": [
    "import numpy as np\n",
    "import matplotlib.pyplot as plt\n",
    "import tensorflow as tf\n",
    "import sklearn\n",
    "\n",
    "print(\"All required packages are working correctly!\")\n"
   ]
  },
  {
   "cell_type": "code",
   "execution_count": 11,
   "id": "dbbb82fb-b22e-4710-afa5-b959b5734973",
   "metadata": {},
   "outputs": [
    {
     "name": "stdout",
     "output_type": "stream",
     "text": [
      "Random Forest Accuracy on MNIST Test Data: 0.9695\n"
     ]
    },
    {
     "data": {
      "image/png": "[encoded data removed]",
      "text/plain": [
       "<Figure size 640x480 with 1 Axes>"
      ]
     },
     "metadata": {},
     "output_type": "display_data"
    }
   ],
   "source": [
    "# Import necessary libraries\n",
    "import numpy as np\n",
    "import matplotlib.pyplot as plt\n",
    "from tensorflow.keras.datasets import mnist\n",
    "from sklearn.metrics import accuracy_score\n",
    "\n",
    "# Import your RandomForestModel from the src folder\n",
    "import sys\n",
    "sys.path.append(\"F:/gitRepo/internship-test/task1_image_classification/src\")\n",
    "\n",
    "from rf_model import RandomForestModel\n",
    "\n",
    "# Load the MNIST dataset\n",
    "(X_train, y_train), (X_test, y_test) = mnist.load_data()\n",
    "\n",
    "# Flatten the images for Random Forest (convert 28x28 into a 1D array of 784 pixels)\n",
    "X_train_flat = X_train.reshape(X_train.shape[0], -1)  # Reshape to (60000, 784)\n",
    "X_test_flat = X_test.reshape(X_test.shape[0], -1)  # Reshape to (10000, 784)\n",
    "\n",
    "# Normalize the data (optional but improves performance)\n",
    "X_train_flat = X_train_flat / 255.0\n",
    "X_test_flat = X_test_flat / 255.0\n",
    "\n",
    "# Instantiate and train the Random Forest model\n",
    "rf_model = RandomForestModel()\n",
    "rf_model.train(X_train_flat, y_train)\n",
    "\n",
    "# Predict on the test set\n",
    "predictions = rf_model.predict(X_test_flat)\n",
    "\n",
    "# Evaluate accuracy\n",
    "accuracy = accuracy_score(y_test, predictions)\n",
    "print(f\"Random Forest Accuracy on MNIST Test Data: {accuracy:.4f}\")\n",
    "\n",
    "# Display a sample prediction\n",
    "sample_index = 0  # Change this index to view different images\n",
    "plt.imshow(X_test[sample_index], cmap='gray')\n",
    "plt.title(f\"Predicted: {predictions[sample_index]}, True: {y_test[sample_index]}\")\n",
    "plt.axis(\"off\")  # Hide axes for better visualization\n",
    "plt.show()"
   ]
  },
  {
   "cell_type": "code",
   "execution_count": 5,
   "id": "54c68443-b3d7-46c5-9683-0d314b874b96",
   "metadata": {},
   "outputs": [
    {
     "data": {
      "text/plain": [
       "['interface.py', 'rf_model.py', '__pycache__']"
      ]
     },
     "execution_count": 5,
     "metadata": {},
     "output_type": "execute_result"
    }
   ],
   "source": [
    "import os\n",
    "os.listdir(\"F:/gitRepo/internship-test/task1_image_classification/src\")\n"
   ]
  },
  {
   "cell_type": "code",
   "execution_count": 6,
   "id": "a47a942f-1f14-4563-8709-196cdafb2f32",
   "metadata": {},
   "outputs": [
    {
     "name": "stdout",
     "output_type": "stream",
     "text": [
      "RandomForestModel imported successfully!\n"
     ]
    }
   ],
   "source": [
    "import sys\n",
    "sys.path.append(\"F:/gitRepo/internship-test/task1_image_classification/src\")\n",
    "\n",
    "from rf_model import RandomForestModel\n",
    "\n",
    "print(\"RandomForestModel imported successfully!\")\n"
   ]
  },
  {
   "cell_type": "code",
   "execution_count": 12,
   "id": "159feef2-654d-409e-b38b-c883c957bd65",
   "metadata": {},
   "outputs": [
    {
     "name": "stdout",
     "output_type": "stream",
     "text": [
      "F:\\gitRepo\\internship-test\\task1_image_classification\\venv\\Scripts\\python.exe\n"
     ]
    }
   ],
   "source": [
    "import sys\n",
    "print(sys.executable)\n"
   ]
  },
  {
   "cell_type": "code",
   "execution_count": null,
   "id": "f677d7fd-17a9-4403-8649-ff7811b2ff30",
   "metadata": {},
   "outputs": [],
   "source": []
  },
  {
   "cell_type": "code",
   "execution_count": 13,
   "id": "aee2dfb5-6080-4fac-ac3e-0a9107250d71",
   "metadata": {
    "scrolled": true
   },
   "outputs": [
    {
     "name": "stdout",
     "output_type": "stream",
     "text": [
      "\n",
      "✅ Random Forest Accuracy on MNIST Test Data: 0.9695\n",
      "\n"
     ]
    },
    {
     "data": {
      "image/png": "[encoded data removed]",
      "text/plain": [
       "<Figure size 640x480 with 1 Axes>"
      ]
     },
     "metadata": {},
     "output_type": "display_data"
    },
    {
     "name": "stdout",
     "output_type": "stream",
     "text": [
      "\n",
      "✅ Model ran successfully and plotted an image.\n"
     ]
    }
   ],
   "source": [
    "# Evaluate accuracy\n",
    "accuracy = accuracy_score(y_test, predictions)\n",
    "print(f\"\\n✅ Random Forest Accuracy on MNIST Test Data: {accuracy:.4f}\\n\")\n",
    "\n",
    "# Display a sample prediction\n",
    "sample_index = 0  # Change this index to view different images\n",
    "plt.imshow(X_test[sample_index], cmap='gray')\n",
    "plt.title(f\"Predicted: {predictions[sample_index]}, True: {y_test[sample_index]}\")\n",
    "plt.axis(\"off\")  # Hide axes for better visualization\n",
    "plt.show()\n",
    "\n",
    "print(\"\\n✅ Model ran successfully and plotted an image.\")"
   ]
  },
  {
   "cell_type": "code",
   "execution_count": null,
   "id": "e6252201-2ac2-49e7-8419-2645618067db",
   "metadata": {},
   "outputs": [],
   "source": [
    "## Training and Testing the Feed-Forward Neural Network (FFNN)\n"
   ]
  },
  {
   "cell_type": "code",
   "execution_count": 8,
   "id": "870c22af-b644-43b8-abe5-1168b099c7e8",
   "metadata": {},
   "outputs": [
    {
     "name": "stderr",
     "output_type": "stream",
     "text": [
      "F:\\gitRepo\\internship-test\\task1_image_classification\\venv\\Lib\\site-packages\\keras\\src\\layers\\reshaping\\flatten.py:37: UserWarning: Do not pass an `input_shape`/`input_dim` argument to a layer. When using Sequential models, prefer using an `Input(shape)` object as the first layer in the model instead.\n",
      "  super().__init__(**kwargs)\n"
     ]
    },
    {
     "name": "stdout",
     "output_type": "stream",
     "text": [
      "Epoch 1/10\n",
      "\u001b[1m1875/1875\u001b[0m \u001b[32m━━━━━━━━━━━━━━━━━━━━\u001b[0m\u001b[37m\u001b[0m \u001b[1m9s\u001b[0m 4ms/step - accuracy: 0.8812 - loss: 0.4222\n",
      "Epoch 2/10\n",
      "\u001b[1m1875/1875\u001b[0m \u001b[32m━━━━━━━━━━━━━━━━━━━━\u001b[0m\u001b[37m\u001b[0m \u001b[1m7s\u001b[0m 4ms/step - accuracy: 0.9643 - loss: 0.1230\n",
      "Epoch 3/10\n",
      "\u001b[1m1875/1875\u001b[0m \u001b[32m━━━━━━━━━━━━━━━━━━━━\u001b[0m\u001b[37m\u001b[0m \u001b[1m7s\u001b[0m 4ms/step - accuracy: 0.9785 - loss: 0.0751\n",
      "Epoch 4/10\n",
      "\u001b[1m1875/1875\u001b[0m \u001b[32m━━━━━━━━━━━━━━━━━━━━\u001b[0m\u001b[37m\u001b[0m \u001b[1m7s\u001b[0m 4ms/step - accuracy: 0.9841 - loss: 0.0540\n",
      "Epoch 5/10\n",
      "\u001b[1m1875/1875\u001b[0m \u001b[32m━━━━━━━━━━━━━━━━━━━━\u001b[0m\u001b[37m\u001b[0m \u001b[1m7s\u001b[0m 4ms/step - accuracy: 0.9874 - loss: 0.0422\n",
      "Epoch 6/10\n",
      "\u001b[1m1875/1875\u001b[0m \u001b[32m━━━━━━━━━━━━━━━━━━━━\u001b[0m\u001b[37m\u001b[0m \u001b[1m8s\u001b[0m 4ms/step - accuracy: 0.9908 - loss: 0.0316\n",
      "Epoch 7/10\n",
      "\u001b[1m1875/1875\u001b[0m \u001b[32m━━━━━━━━━━━━━━━━━━━━\u001b[0m\u001b[37m\u001b[0m \u001b[1m10s\u001b[0m 5ms/step - accuracy: 0.9919 - loss: 0.0256\n",
      "Epoch 8/10\n",
      "\u001b[1m1875/1875\u001b[0m \u001b[32m━━━━━━━━━━━━━━━━━━━━\u001b[0m\u001b[37m\u001b[0m \u001b[1m7s\u001b[0m 4ms/step - accuracy: 0.9933 - loss: 0.0212\n",
      "Epoch 9/10\n",
      "\u001b[1m1875/1875\u001b[0m \u001b[32m━━━━━━━━━━━━━━━━━━━━\u001b[0m\u001b[37m\u001b[0m \u001b[1m7s\u001b[0m 4ms/step - accuracy: 0.9955 - loss: 0.0166\n",
      "Epoch 10/10\n",
      "\u001b[1m1875/1875\u001b[0m \u001b[32m━━━━━━━━━━━━━━━━━━━━\u001b[0m\u001b[37m\u001b[0m \u001b[1m10s\u001b[0m 4ms/step - accuracy: 0.9966 - loss: 0.0125\n",
      "\u001b[1m313/313\u001b[0m \u001b[32m━━━━━━━━━━━━━━━━━━━━\u001b[0m\u001b[37m\u001b[0m \u001b[1m1s\u001b[0m 2ms/step  \n",
      "FFNN Accuracy on MNIST Test Data: 0.9781\n"
     ]
    },
    {
     "data": {
      "image/png": "[encoded data removed]",
      "text/plain": [
       "<Figure size 640x480 with 1 Axes>"
      ]
     },
     "metadata": {},
     "output_type": "display_data"
    }
   ],
   "source": [
    "import numpy as np\n",
    "import matplotlib.pyplot as plt\n",
    "from tensorflow.keras.datasets import mnist\n",
    "from sklearn.metrics import accuracy_score\n",
    "\n",
    "import sys\n",
    "sys.path.append(\"F:/gitRepo/internship-test/task1_image_classification/src\")\n",
    "\n",
    "from ffnn_model import FFNNModel\n",
    "\n",
    "# Load the MNIST dataset\n",
    "(X_train, y_train), (X_test, y_test) = mnist.load_data()\n",
    "\n",
    "# Normalize the data (same as before)\n",
    "X_train = X_train / 255.0\n",
    "X_test = X_test / 255.0\n",
    "\n",
    "# Instantiate and train the FFNN model\n",
    "ffnn_model = FFNNModel()\n",
    "ffnn_model.train(X_train, y_train)\n",
    "\n",
    "# Predict on the test set\n",
    "predictions = ffnn_model.predict(X_test)\n",
    "\n",
    "# Evaluate accuracy\n",
    "accuracy = accuracy_score(y_test, predictions)\n",
    "print(f\"FFNN Accuracy on MNIST Test Data: {accuracy:.4f}\")\n",
    "\n",
    "# Display a sample prediction\n",
    "sample_index = 0\n",
    "plt.imshow(X_test[sample_index], cmap='gray')\n",
    "plt.title(f\"Predicted: {predictions[sample_index]}, True: {y_test[sample_index]}\")\n",
    "plt.axis(\"off\")\n",
    "plt.show()"
   ]
  },
  {
   "cell_type": "code",
   "execution_count": 15,
   "id": "03f80ca2-d8cb-440a-8ad1-095566b3c0af",
   "metadata": {},
   "outputs": [
    {
     "name": "stdout",
     "output_type": "stream",
     "text": [
      "['interface.py', 'rf_model.py', '__pycache__']\n"
     ]
    }
   ],
   "source": [
    "import os\n",
    "print(os.listdir(\"F:/gitRepo/internship-test/task1_image_classification/src\"))\n"
   ]
  },
  {
   "cell_type": "code",
   "execution_count": 7,
   "id": "02b5e7d5-23d8-4c85-905a-e802f85ae1ee",
   "metadata": {},
   "outputs": [
    {
     "name": "stdout",
     "output_type": "stream",
     "text": [
      "FFNNModel imported successfully!\n"
     ]
    }
   ],
   "source": [
    "import sys\n",
    "sys.path.append(\"F:/gitRepo/internship-test/task1_image_classification/src\")\n",
    "\n",
    "from ffnn_model import FFNNModel\n",
    "print(\"FFNNModel imported successfully!\")\n"
   ]
  },
  {
   "cell_type": "code",
   "execution_count": null,
   "id": "dccc0954-0010-48b3-924d-3fb3aa428116",
   "metadata": {},
   "outputs": [],
   "source": [
    "## Training and Testing the CNN \n"
   ]
  },
  {
   "cell_type": "code",
   "execution_count": 9,
   "id": "786b96c0-5228-449d-bebb-fbc0cd8102b5",
   "metadata": {},
   "outputs": [],
   "source": [
    "import sys\n",
    "sys.path.append(\"F:/gitRepo/internship-test/task1_image_classification/src\")\n",
    "\n",
    "from cnn_model import CNNModel\n"
   ]
  },
  {
   "cell_type": "code",
   "execution_count": 10,
   "id": "3aa15170-84c7-4c82-a93f-a20fa317ee4c",
   "metadata": {},
   "outputs": [
    {
     "name": "stderr",
     "output_type": "stream",
     "text": [
      "F:\\gitRepo\\internship-test\\task1_image_classification\\venv\\Lib\\site-packages\\keras\\src\\layers\\convolutional\\base_conv.py:107: UserWarning: Do not pass an `input_shape`/`input_dim` argument to a layer. When using Sequential models, prefer using an `Input(shape)` object as the first layer in the model instead.\n",
      "  super().__init__(activity_regularizer=activity_regularizer, **kwargs)\n"
     ]
    },
    {
     "name": "stdout",
     "output_type": "stream",
     "text": [
      "Epoch 1/10\n",
      "\u001b[1m1875/1875\u001b[0m \u001b[32m━━━━━━━━━━━━━━━━━━━━\u001b[0m\u001b[37m\u001b[0m \u001b[1m64s\u001b[0m 33ms/step - accuracy: 0.8952 - loss: 0.3369 \n",
      "Epoch 2/10\n",
      "\u001b[1m1875/1875\u001b[0m \u001b[32m━━━━━━━━━━━━━━━━━━━━\u001b[0m\u001b[37m\u001b[0m \u001b[1m80s\u001b[0m 43ms/step - accuracy: 0.9824 - loss: 0.0582 \n",
      "Epoch 3/10\n",
      "\u001b[1m1875/1875\u001b[0m \u001b[32m━━━━━━━━━━━━━━━━━━━━\u001b[0m\u001b[37m\u001b[0m \u001b[1m61s\u001b[0m 32ms/step - accuracy: 0.9870 - loss: 0.0404\n",
      "Epoch 4/10\n",
      "\u001b[1m1875/1875\u001b[0m \u001b[32m━━━━━━━━━━━━━━━━━━━━\u001b[0m\u001b[37m\u001b[0m \u001b[1m65s\u001b[0m 35ms/step - accuracy: 0.9897 - loss: 0.0316\n",
      "Epoch 5/10\n",
      "\u001b[1m1875/1875\u001b[0m \u001b[32m━━━━━━━━━━━━━━━━━━━━\u001b[0m\u001b[37m\u001b[0m \u001b[1m62s\u001b[0m 33ms/step - accuracy: 0.9928 - loss: 0.0220\n",
      "Epoch 6/10\n",
      "\u001b[1m1875/1875\u001b[0m \u001b[32m━━━━━━━━━━━━━━━━━━━━\u001b[0m\u001b[37m\u001b[0m \u001b[1m78s\u001b[0m 41ms/step - accuracy: 0.9938 - loss: 0.0201\n",
      "Epoch 7/10\n",
      "\u001b[1m1875/1875\u001b[0m \u001b[32m━━━━━━━━━━━━━━━━━━━━\u001b[0m\u001b[37m\u001b[0m \u001b[1m60s\u001b[0m 32ms/step - accuracy: 0.9949 - loss: 0.0160\n",
      "Epoch 8/10\n",
      "\u001b[1m1875/1875\u001b[0m \u001b[32m━━━━━━━━━━━━━━━━━━━━\u001b[0m\u001b[37m\u001b[0m \u001b[1m60s\u001b[0m 32ms/step - accuracy: 0.9950 - loss: 0.0157\n",
      "Epoch 9/10\n",
      "\u001b[1m1875/1875\u001b[0m \u001b[32m━━━━━━━━━━━━━━━━━━━━\u001b[0m\u001b[37m\u001b[0m \u001b[1m61s\u001b[0m 32ms/step - accuracy: 0.9959 - loss: 0.0125\n",
      "Epoch 10/10\n",
      "\u001b[1m1875/1875\u001b[0m \u001b[32m━━━━━━━━━━━━━━━━━━━━\u001b[0m\u001b[37m\u001b[0m \u001b[1m81s\u001b[0m 32ms/step - accuracy: 0.9960 - loss: 0.0115\n",
      "\u001b[1m313/313\u001b[0m \u001b[32m━━━━━━━━━━━━━━━━━━━━\u001b[0m\u001b[37m\u001b[0m \u001b[1m4s\u001b[0m 12ms/step\n",
      "🔥 CNN Accuracy on MNIST Test Data: 0.9926\n"
     ]
    },
    {
     "data": {
      "image/png": "[encoded data removed]",
      "text/plain": [
       "<Figure size 640x480 with 1 Axes>"
      ]
     },
     "metadata": {},
     "output_type": "display_data"
    }
   ],
   "source": [
    "import numpy as np\n",
    "import matplotlib.pyplot as plt\n",
    "from tensorflow.keras.datasets import mnist\n",
    "from sklearn.metrics import accuracy_score\n",
    "\n",
    "# Load the MNIST dataset\n",
    "(X_train, y_train), (X_test, y_test) = mnist.load_data()\n",
    "\n",
    "# Reshape for CNN: Add channel dimension (28,28,1)\n",
    "X_train = X_train.reshape(X_train.shape[0], 28, 28, 1)\n",
    "X_test = X_test.reshape(X_test.shape[0], 28, 28, 1)\n",
    "\n",
    "# Normalize the data (scale pixel values to [0,1])\n",
    "X_train = X_train / 255.0\n",
    "X_test = X_test / 255.0\n",
    "\n",
    "# Instantiate and train the CNN model\n",
    "cnn_model = CNNModel()\n",
    "cnn_model.train(X_train, y_train)\n",
    "\n",
    "# Predict on the test set\n",
    "predictions = cnn_model.predict(X_test)\n",
    "\n",
    "# Evaluate accuracy\n",
    "accuracy = accuracy_score(y_test, predictions)\n",
    "print(f\"🔥 CNN Accuracy on MNIST Test Data: {accuracy:.4f}\")\n",
    "\n",
    "# Display a sample prediction\n",
    "sample_index = 0\n",
    "plt.imshow(X_test[sample_index].reshape(28,28), cmap='gray')\n",
    "plt.title(f\"Predicted: {predictions[sample_index]}, True: {y_test[sample_index]}\")\n",
    "plt.axis(\"off\")\n",
    "plt.show()\n"
   ]
  },
  {
   "cell_type": "code",
   "execution_count": null,
   "id": "d261142b-9fbc-401a-8397-6d726df509e6",
   "metadata": {},
   "outputs": [],
   "source": []
  }
 ],
 "metadata": {
  "kernelspec": {
   "display_name": "Python 3 (ipykernel)",
   "language": "python",
   "name": "python3"
  },
  "language_info": {
   "codemirror_mode": {
    "name": "ipython",
    "version": 3
   },
   "file_extension": ".py",
   "mimetype": "text/x-python",
   "name": "python",
   "nbconvert_exporter": "python",
   "pygments_lexer": "ipython3",
   "version": "3.11.6"
  }
 },
 "nbformat": 4,
 "nbformat_minor": 5
}
