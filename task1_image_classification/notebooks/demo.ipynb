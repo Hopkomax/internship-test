{
 "cells": [
  {
   "cell_type": "markdown",
   "id": "c8e65ca4-088d-46c8-8ade-f2fe433f0bfe",
   "metadata": {},
   "source": [
    "# MNIST Classification Demo\n",
    "### Comparing Random Forest, FFNN, and CNN on Handwritten Digit Recognition\n",
    "\n",
    "This notebook trains and evaluates three different machine learning models on the MNIST dataset.\n",
    "\n",
    "### 🔹 Models Used:\n",
    "- 🌲 **Random Forest** (Traditional Machine Learning)\n",
    "- ⚡ **Feed-Forward Neural Network (FFNN)**\n",
    "- 🔥 **Convolutional Neural Network (CNN)**\n",
    "\n",
    "We will:\n",
    "1. Load and preprocess the MNIST dataset.\n",
    "2. Train and evaluate **each model sequentially**.\n",
    "3. Discuss **edge cases** (difficult images for classification).\n",
    "4. Compare model performance at the end."
   ]
  },
  {
   "cell_type": "markdown",
   "id": "c7725d1b-3a24-4c49-ae41-b2651d64df3c",
   "metadata": {},
   "source": [
    "## 🔹 Checking Environment and Required Libraries\n",
    "This section verifies that all necessary libraries are installed and checks the Python interpreter."
   ]
  },
  {
   "cell_type": "code",
   "execution_count": 4,
   "id": "d17c3e62-a032-4f78-93dd-2cbda0373aaa",
   "metadata": {},
   "outputs": [
    {
     "name": "stdout",
     "output_type": "stream",
     "text": [
      "✅ All required packages are installed and working!\n",
      "Python Interpreter Path: F:\\gitRepo\\internship-test\\task1_image_classification\\venv\\Scripts\\python.exe\n"
     ]
    }
   ],
   "source": [
    "import numpy as np\n",
    "import matplotlib.pyplot as plt\n",
    "import tensorflow as tf\n",
    "import sklearn\n",
    "import sys\n",
    "\n",
    "print(\"✅ All required packages are installed and working!\")\n",
    "print(\"Python Interpreter Path:\", sys.executable)\n"
   ]
  },
  {
   "cell_type": "markdown",
   "id": "c9b7116b-b5da-408c-ae95-f35c3829cb78",
   "metadata": {},
   "source": [
    "## 🔹 Loading and Preprocessing MNIST Dataset\n",
    "This section:\n",
    "- Loads the MNIST dataset.\n",
    "- Normalizes pixel values to [0,1].\n",
    "- Reshapes data for CNN models."
   ]
  },
  {
   "cell_type": "code",
   "execution_count": 7,
   "id": "f02b2b54-a54e-4f1f-b22b-002d2e5a9258",
   "metadata": {},
   "outputs": [
    {
     "name": "stdout",
     "output_type": "stream",
     "text": [
      "✅ MNIST dataset loaded and normalized successfully!\n"
     ]
    }
   ],
   "source": [
    "from tensorflow.keras.datasets import mnist\n",
    "from sklearn.metrics import accuracy_score\n",
    "\n",
    "# Load the MNIST dataset\n",
    "(X_train, y_train), (X_test, y_test) = mnist.load_data()\n",
    "\n",
    "# Normalize data (scale pixel values to [0,1])\n",
    "X_train = X_train / 255.0\n",
    "X_test = X_test / 255.0\n",
    "\n",
    "# Prepare CNN data (reshape to add a single channel)\n",
    "X_train_cnn = X_train.reshape(X_train.shape[0], 28, 28, 1)\n",
    "X_test_cnn = X_test.reshape(X_test.shape[0], 28, 28, 1)\n",
    "\n",
    "print(\"✅ MNIST dataset loaded and normalized successfully!\")\n"
   ]
  },
  {
   "cell_type": "markdown",
   "id": "19bccbe4-ce05-4883-836c-7070ffb91094",
   "metadata": {},
   "source": [
    "## 🌲 Training and Evaluating Random Forest\n",
    "This section:\n",
    "- Flattens the images for Random Forest.\n",
    "- Trains a Random Forest model.\n",
    "- Evaluates and prints accuracy."
   ]
  },
  {
   "cell_type": "code",
   "execution_count": null,
   "id": "dbbb82fb-b22e-4710-afa5-b959b5734973",
   "metadata": {},
   "outputs": [
    {
     "name": "stdout",
     "output_type": "stream",
     "text": [
      "🔥 Training Random Forest Model...\n"
     ]
    }
   ],
   "source": [
    "sys.path.append(\"F:/gitRepo/internship-test/task1_image_classification/src\")\n",
    "from rf_model import RandomForestModel\n",
    "\n",
    "# Prepare Random Forest data (flatten images)\n",
    "X_train_rf = X_train.reshape(X_train.shape[0], -1)\n",
    "X_test_rf = X_test.reshape(X_test.shape[0], -1)\n",
    "\n",
    "print(\"🔥 Training Random Forest Model...\")\n",
    "rf_model = RandomForestModel()\n",
    "rf_model.train(X_train_rf, y_train)\n",
    "\n",
    "# Predict & Evaluate\n",
    "rf_predictions = rf_model.predict(X_test_rf)\n",
    "rf_accuracy = accuracy_score(y_test, rf_predictions)\n",
    "print(f\"🌲 Random Forest Accuracy: {rf_accuracy:.4f}\")\n"
   ]
  },
  {
   "cell_type": "markdown",
   "id": "76d7a4a0-01a8-418d-95e7-08e08ca8fb84",
   "metadata": {},
   "source": [
    "## ⚡ Training and Evaluating Feed-Forward Neural Network (FFNN)\n",
    "This section:\n",
    "- Trains an FFNN model on MNIST.\n",
    "- Evaluates and prints accuracy."
   ]
  },
  {
   "cell_type": "code",
   "execution_count": 12,
   "id": "54c68443-b3d7-46c5-9683-0d314b874b96",
   "metadata": {},
   "outputs": [
    {
     "name": "stdout",
     "output_type": "stream",
     "text": [
      "⚡ Training Feed-Forward Neural Network (FFNN)...\n",
      "Epoch 1/10\n"
     ]
    },
    {
     "ename": "ValueError",
     "evalue": "Arguments `target` and `output` must have the same rank (ndim). Received: target.shape=(32, 10), output.shape=(32, 28, 10)",
     "output_type": "error",
     "traceback": [
      "\u001b[1;31m---------------------------------------------------------------------------\u001b[0m",
      "\u001b[1;31mValueError\u001b[0m                                Traceback (most recent call last)",
      "Cell \u001b[1;32mIn[12], line 5\u001b[0m\n\u001b[0;32m      3\u001b[0m \u001b[38;5;28mprint\u001b[39m(\u001b[38;5;124m\"\u001b[39m\u001b[38;5;124m⚡ Training Feed-Forward Neural Network (FFNN)...\u001b[39m\u001b[38;5;124m\"\u001b[39m)\n\u001b[0;32m      4\u001b[0m ffnn_model \u001b[38;5;241m=\u001b[39m FFNNModel()\n\u001b[1;32m----> 5\u001b[0m \u001b[43mffnn_model\u001b[49m\u001b[38;5;241;43m.\u001b[39;49m\u001b[43mtrain\u001b[49m\u001b[43m(\u001b[49m\u001b[43mX_train\u001b[49m\u001b[43m,\u001b[49m\u001b[43m \u001b[49m\u001b[43my_train\u001b[49m\u001b[43m)\u001b[49m\n\u001b[0;32m      7\u001b[0m \u001b[38;5;66;03m# Predict & Evaluate\u001b[39;00m\n\u001b[0;32m      8\u001b[0m ffnn_predictions \u001b[38;5;241m=\u001b[39m ffnn_model\u001b[38;5;241m.\u001b[39mpredict(X_test)\n",
      "File \u001b[1;32mF:\\gitRepo/internship-test/task1_image_classification/src\\ffnn_model.py:30\u001b[0m, in \u001b[0;36mFFNNModel.train\u001b[1;34m(self, X_train, y_train)\u001b[0m\n\u001b[0;32m     26\u001b[0m \u001b[38;5;250m\u001b[39m\u001b[38;5;124;03m\"\"\"\u001b[39;00m\n\u001b[0;32m     27\u001b[0m \u001b[38;5;124;03mTrain the FFNN model.\u001b[39;00m\n\u001b[0;32m     28\u001b[0m \u001b[38;5;124;03m\"\"\"\u001b[39;00m\n\u001b[0;32m     29\u001b[0m y_train_cat \u001b[38;5;241m=\u001b[39m to_categorical(y_train, num_classes\u001b[38;5;241m=\u001b[39m\u001b[38;5;28mself\u001b[39m\u001b[38;5;241m.\u001b[39mnum_classes)  \u001b[38;5;66;03m# Convert labels to one-hot encoding\u001b[39;00m\n\u001b[1;32m---> 30\u001b[0m \u001b[38;5;28;43mself\u001b[39;49m\u001b[38;5;241;43m.\u001b[39;49m\u001b[43mmodel\u001b[49m\u001b[38;5;241;43m.\u001b[39;49m\u001b[43mfit\u001b[49m\u001b[43m(\u001b[49m\u001b[43mX_train\u001b[49m\u001b[43m,\u001b[49m\u001b[43m \u001b[49m\u001b[43my_train_cat\u001b[49m\u001b[43m,\u001b[49m\u001b[43m \u001b[49m\u001b[43mepochs\u001b[49m\u001b[38;5;241;43m=\u001b[39;49m\u001b[38;5;28;43mself\u001b[39;49m\u001b[38;5;241;43m.\u001b[39;49m\u001b[43mepochs\u001b[49m\u001b[43m,\u001b[49m\u001b[43m \u001b[49m\u001b[43mbatch_size\u001b[49m\u001b[38;5;241;43m=\u001b[39;49m\u001b[38;5;28;43mself\u001b[39;49m\u001b[38;5;241;43m.\u001b[39;49m\u001b[43mbatch_size\u001b[49m\u001b[43m,\u001b[49m\u001b[43m \u001b[49m\u001b[43mverbose\u001b[49m\u001b[38;5;241;43m=\u001b[39;49m\u001b[38;5;241;43m1\u001b[39;49m\u001b[43m)\u001b[49m\n",
      "File \u001b[1;32mF:\\gitRepo\\internship-test\\task1_image_classification\\venv\\Lib\\site-packages\\keras\\src\\utils\\traceback_utils.py:122\u001b[0m, in \u001b[0;36mfilter_traceback.<locals>.error_handler\u001b[1;34m(*args, **kwargs)\u001b[0m\n\u001b[0;32m    119\u001b[0m     filtered_tb \u001b[38;5;241m=\u001b[39m _process_traceback_frames(e\u001b[38;5;241m.\u001b[39m__traceback__)\n\u001b[0;32m    120\u001b[0m     \u001b[38;5;66;03m# To get the full stack trace, call:\u001b[39;00m\n\u001b[0;32m    121\u001b[0m     \u001b[38;5;66;03m# `keras.config.disable_traceback_filtering()`\u001b[39;00m\n\u001b[1;32m--> 122\u001b[0m     \u001b[38;5;28;01mraise\u001b[39;00m e\u001b[38;5;241m.\u001b[39mwith_traceback(filtered_tb) \u001b[38;5;28;01mfrom\u001b[39;00m\u001b[38;5;250m \u001b[39m\u001b[38;5;28;01mNone\u001b[39;00m\n\u001b[0;32m    123\u001b[0m \u001b[38;5;28;01mfinally\u001b[39;00m:\n\u001b[0;32m    124\u001b[0m     \u001b[38;5;28;01mdel\u001b[39;00m filtered_tb\n",
      "File \u001b[1;32mF:\\gitRepo\\internship-test\\task1_image_classification\\venv\\Lib\\site-packages\\keras\\src\\backend\\tensorflow\\nn.py:653\u001b[0m, in \u001b[0;36mcategorical_crossentropy\u001b[1;34m(target, output, from_logits, axis)\u001b[0m\n\u001b[0;32m    647\u001b[0m     \u001b[38;5;28;01mraise\u001b[39;00m \u001b[38;5;167;01mValueError\u001b[39;00m(\n\u001b[0;32m    648\u001b[0m         \u001b[38;5;124m\"\u001b[39m\u001b[38;5;124mArguments `target` and `output` must be at least rank 1. \u001b[39m\u001b[38;5;124m\"\u001b[39m\n\u001b[0;32m    649\u001b[0m         \u001b[38;5;124m\"\u001b[39m\u001b[38;5;124mReceived: \u001b[39m\u001b[38;5;124m\"\u001b[39m\n\u001b[0;32m    650\u001b[0m         \u001b[38;5;124mf\u001b[39m\u001b[38;5;124m\"\u001b[39m\u001b[38;5;124mtarget.shape=\u001b[39m\u001b[38;5;132;01m{\u001b[39;00mtarget\u001b[38;5;241m.\u001b[39mshape\u001b[38;5;132;01m}\u001b[39;00m\u001b[38;5;124m, output.shape=\u001b[39m\u001b[38;5;132;01m{\u001b[39;00moutput\u001b[38;5;241m.\u001b[39mshape\u001b[38;5;132;01m}\u001b[39;00m\u001b[38;5;124m\"\u001b[39m\n\u001b[0;32m    651\u001b[0m     )\n\u001b[0;32m    652\u001b[0m \u001b[38;5;28;01mif\u001b[39;00m \u001b[38;5;28mlen\u001b[39m(target\u001b[38;5;241m.\u001b[39mshape) \u001b[38;5;241m!=\u001b[39m \u001b[38;5;28mlen\u001b[39m(output\u001b[38;5;241m.\u001b[39mshape):\n\u001b[1;32m--> 653\u001b[0m     \u001b[38;5;28;01mraise\u001b[39;00m \u001b[38;5;167;01mValueError\u001b[39;00m(\n\u001b[0;32m    654\u001b[0m         \u001b[38;5;124m\"\u001b[39m\u001b[38;5;124mArguments `target` and `output` must have the same rank \u001b[39m\u001b[38;5;124m\"\u001b[39m\n\u001b[0;32m    655\u001b[0m         \u001b[38;5;124m\"\u001b[39m\u001b[38;5;124m(ndim). Received: \u001b[39m\u001b[38;5;124m\"\u001b[39m\n\u001b[0;32m    656\u001b[0m         \u001b[38;5;124mf\u001b[39m\u001b[38;5;124m\"\u001b[39m\u001b[38;5;124mtarget.shape=\u001b[39m\u001b[38;5;132;01m{\u001b[39;00mtarget\u001b[38;5;241m.\u001b[39mshape\u001b[38;5;132;01m}\u001b[39;00m\u001b[38;5;124m, output.shape=\u001b[39m\u001b[38;5;132;01m{\u001b[39;00moutput\u001b[38;5;241m.\u001b[39mshape\u001b[38;5;132;01m}\u001b[39;00m\u001b[38;5;124m\"\u001b[39m\n\u001b[0;32m    657\u001b[0m     )\n\u001b[0;32m    658\u001b[0m \u001b[38;5;28;01mfor\u001b[39;00m e1, e2 \u001b[38;5;129;01min\u001b[39;00m \u001b[38;5;28mzip\u001b[39m(target\u001b[38;5;241m.\u001b[39mshape, output\u001b[38;5;241m.\u001b[39mshape):\n\u001b[0;32m    659\u001b[0m     \u001b[38;5;28;01mif\u001b[39;00m e1 \u001b[38;5;129;01mis\u001b[39;00m \u001b[38;5;129;01mnot\u001b[39;00m \u001b[38;5;28;01mNone\u001b[39;00m \u001b[38;5;129;01mand\u001b[39;00m e2 \u001b[38;5;129;01mis\u001b[39;00m \u001b[38;5;129;01mnot\u001b[39;00m \u001b[38;5;28;01mNone\u001b[39;00m \u001b[38;5;129;01mand\u001b[39;00m e1 \u001b[38;5;241m!=\u001b[39m e2:\n",
      "\u001b[1;31mValueError\u001b[0m: Arguments `target` and `output` must have the same rank (ndim). Received: target.shape=(32, 10), output.shape=(32, 28, 10)"
     ]
    }
   ],
   "source": [
    "from ffnn_model import FFNNModel\n",
    "\n",
    "print(\"⚡ Training Feed-Forward Neural Network (FFNN)...\")\n",
    "ffnn_model = FFNNModel()\n",
    "ffnn_model.train(X_train, y_train)\n",
    "\n",
    "# Predict & Evaluate\n",
    "ffnn_predictions = ffnn_model.predict(X_test)\n",
    "ffnn_accuracy = accuracy_score(y_test, ffnn_predictions)\n",
    "print(f\"⚡ FFNN Accuracy: {ffnn_accuracy:.4f}\")\n"
   ]
  },
  {
   "cell_type": "markdown",
   "id": "17a768a6-3611-46a5-867f-a6fdf3d5d2c3",
   "metadata": {},
   "source": [
    "## 🔥 Training and Evaluating Convolutional Neural Network (CNN)\n",
    "This section:\n",
    "- Trains a CNN model.\n",
    "- Evaluates and prints accuracy."
   ]
  },
  {
   "cell_type": "code",
   "execution_count": 22,
   "id": "a47a942f-1f14-4563-8709-196cdafb2f32",
   "metadata": {},
   "outputs": [
    {
     "name": "stdout",
     "output_type": "stream",
     "text": [
      "🔥 Training Convolutional Neural Network (CNN)...\n",
      "Epoch 1/10\n",
      "\u001b[1m1875/1875\u001b[0m \u001b[32m━━━━━━━━━━━━━━━━━━━━\u001b[0m\u001b[37m\u001b[0m \u001b[1m61s\u001b[0m 32ms/step - accuracy: 0.8956 - loss: 0.3423 \n",
      "Epoch 2/10\n",
      "\u001b[1m1875/1875\u001b[0m \u001b[32m━━━━━━━━━━━━━━━━━━━━\u001b[0m\u001b[37m\u001b[0m \u001b[1m55s\u001b[0m 29ms/step - accuracy: 0.9816 - loss: 0.0604\n",
      "Epoch 3/10\n",
      "\u001b[1m1875/1875\u001b[0m \u001b[32m━━━━━━━━━━━━━━━━━━━━\u001b[0m\u001b[37m\u001b[0m \u001b[1m56s\u001b[0m 30ms/step - accuracy: 0.9881 - loss: 0.0397\n",
      "Epoch 4/10\n",
      "\u001b[1m1875/1875\u001b[0m \u001b[32m━━━━━━━━━━━━━━━━━━━━\u001b[0m\u001b[37m\u001b[0m \u001b[1m58s\u001b[0m 31ms/step - accuracy: 0.9910 - loss: 0.0293\n",
      "Epoch 5/10\n",
      "\u001b[1m1875/1875\u001b[0m \u001b[32m━━━━━━━━━━━━━━━━━━━━\u001b[0m\u001b[37m\u001b[0m \u001b[1m59s\u001b[0m 31ms/step - accuracy: 0.9919 - loss: 0.0237\n",
      "Epoch 6/10\n",
      "\u001b[1m1875/1875\u001b[0m \u001b[32m━━━━━━━━━━━━━━━━━━━━\u001b[0m\u001b[37m\u001b[0m \u001b[1m58s\u001b[0m 31ms/step - accuracy: 0.9936 - loss: 0.0181\n",
      "Epoch 7/10\n",
      "\u001b[1m1875/1875\u001b[0m \u001b[32m━━━━━━━━━━━━━━━━━━━━\u001b[0m\u001b[37m\u001b[0m \u001b[1m59s\u001b[0m 31ms/step - accuracy: 0.9955 - loss: 0.0145\n",
      "Epoch 8/10\n",
      "\u001b[1m1875/1875\u001b[0m \u001b[32m━━━━━━━━━━━━━━━━━━━━\u001b[0m\u001b[37m\u001b[0m \u001b[1m62s\u001b[0m 33ms/step - accuracy: 0.9954 - loss: 0.0147\n",
      "Epoch 9/10\n",
      "\u001b[1m1875/1875\u001b[0m \u001b[32m━━━━━━━━━━━━━━━━━━━━\u001b[0m\u001b[37m\u001b[0m \u001b[1m59s\u001b[0m 31ms/step - accuracy: 0.9956 - loss: 0.0123\n",
      "Epoch 10/10\n",
      "\u001b[1m1875/1875\u001b[0m \u001b[32m━━━━━━━━━━━━━━━━━━━━\u001b[0m\u001b[37m\u001b[0m \u001b[1m59s\u001b[0m 32ms/step - accuracy: 0.9963 - loss: 0.0103\n",
      "\u001b[1m313/313\u001b[0m \u001b[32m━━━━━━━━━━━━━━━━━━━━\u001b[0m\u001b[37m\u001b[0m \u001b[1m4s\u001b[0m 12ms/step\n",
      "🔥 CNN Accuracy: 0.9935\n"
     ]
    }
   ],
   "source": [
    "from cnn_model import CNNModel\n",
    "\n",
    "print(\"🔥 Training Convolutional Neural Network (CNN)...\")\n",
    "cnn_model = CNNModel()\n",
    "cnn_model.train(X_train_cnn, y_train)\n",
    "\n",
    "# Predict & Evaluate\n",
    "cnn_predictions = cnn_model.predict(X_test_cnn)\n",
    "cnn_accuracy = accuracy_score(y_test, cnn_predictions)\n",
    "print(f\"🔥 CNN Accuracy: {cnn_accuracy:.4f}\")\n"
   ]
  },
  {
   "cell_type": "markdown",
   "id": "24d42475-7ca7-4381-b985-c329547f3e1d",
   "metadata": {},
   "source": [
    "## 📊 Comparing Model Predictions on the Same Image\n",
    "This section:\n",
    "- Selects a **random test image**.\n",
    "- Displays how **each model (RF, FFNN, CNN) classified it**."
   ]
  },
  {
   "cell_type": "code",
   "execution_count": 23,
   "id": "159feef2-654d-409e-b38b-c883c957bd65",
   "metadata": {
    "scrolled": true
   },
   "outputs": [
    {
     "data": {
      "image/png": "[encoded data removed]",
      "text/plain": [
       "<Figure size 1200x400 with 3 Axes>"
      ]
     },
     "metadata": {},
     "output_type": "display_data"
    }
   ],
   "source": [
    "import random\n",
    "\n",
    "sample_index = random.randint(0, len(X_test) - 1)\n",
    "\n",
    "# Plot results for all models\n",
    "plt.figure(figsize=(12, 4))\n",
    "\n",
    "plt.subplot(1, 3, 1)\n",
    "plt.imshow(X_test[sample_index], cmap='gray')\n",
    "plt.title(f\"RF: {rf_predictions[sample_index]} (True: {y_test[sample_index]})\")\n",
    "plt.axis(\"off\")\n",
    "\n",
    "plt.subplot(1, 3, 2)\n",
    "plt.imshow(X_test[sample_index], cmap='gray')\n",
    "plt.title(f\"FFNN: {ffnn_predictions[sample_index]} (True: {y_test[sample_index]})\")\n",
    "plt.axis(\"off\")\n",
    "\n",
    "plt.subplot(1, 3, 3)\n",
    "plt.imshow(X_test[sample_index], cmap='gray')\n",
    "plt.title(f\"CNN: {cnn_predictions[sample_index]} (True: {y_test[sample_index]})\")\n",
    "plt.axis(\"off\")\n",
    "\n",
    "plt.show()\n"
   ]
  },
  {
   "cell_type": "markdown",
   "id": "4c8646ed-43c1-4e0b-bd73-d7bbca136b4b",
   "metadata": {},
   "source": [
    "#  **EDGE CASE ANALYSIS**\n"
   ]
  },
  {
   "cell_type": "markdown",
   "id": "6499fa89-0b6a-4c1a-a524-0e8f36aeac14",
   "metadata": {},
   "source": [
    "## 🔥 1. Most Confident Wrong Predictions\n",
    "This method **identifies cases where the CNN was very confident, but still wrong**.\n",
    "\n",
    "### **Why This Matters?**\n",
    "- Some mistakes are caused by the model **being too confident in a wrong answer**.\n",
    "- This helps **debug overconfidence issues**.\n",
    "- It tells us whether the model needs **better calibration**.\n",
    "\n",
    "### **How It Works?**\n",
    "1. **Get the model’s confidence score (softmax probability) for each test image**.\n",
    "2. **Select the misclassified images where CNN had the highest confidence**.\n",
    "3. **Display these images with their incorrect predictions**."
   ]
  },
  {
   "cell_type": "code",
   "execution_count": 26,
   "id": "d261142b-9fbc-401a-8397-6d726df509e6",
   "metadata": {},
   "outputs": [
    {
     "name": "stdout",
     "output_type": "stream",
     "text": [
      "\u001b[1m313/313\u001b[0m \u001b[32m━━━━━━━━━━━━━━━━━━━━\u001b[0m\u001b[37m\u001b[0m \u001b[1m4s\u001b[0m 12ms/step\n"
     ]
    },
    {
     "data": {
      "image/png": "[encoded data removed]",
      "text/plain": [
       "<Figure size 1000x500 with 5 Axes>"
      ]
     },
     "metadata": {},
     "output_type": "display_data"
    },
    {
     "name": "stdout",
     "output_type": "stream",
     "text": [
      "⚠️ These are the **most confident** incorrect predictions.\n"
     ]
    }
   ],
   "source": [
    "# Get softmax probabilities from CNN\n",
    "softmax_outputs = cnn_model.model.predict(X_test_cnn)\n",
    "\n",
    "# Find misclassified images\n",
    "misclassified_indices = np.where(cnn_predictions != y_test)[0]\n",
    "\n",
    "# Get confidence scores for misclassified images\n",
    "misclassified_confidence = softmax_outputs[misclassified_indices, cnn_predictions[misclassified_indices]]\n",
    "\n",
    "# Select top 5 most confident wrong predictions\n",
    "top_misclassified = misclassified_indices[np.argsort(-misclassified_confidence)[:5]]\n",
    "\n",
    "# Display most confident wrong predictions\n",
    "plt.figure(figsize=(10, 5))\n",
    "for i, index in enumerate(top_misclassified):\n",
    "    plt.subplot(1, 5, i+1)\n",
    "    plt.imshow(X_test[index], cmap='gray')\n",
    "    plt.title(f\"Pred: {cnn_predictions[index]}, True: {y_test[index]}\\nConf: {misclassified_confidence[i]:.2f}\")\n",
    "    plt.axis(\"off\")\n",
    "plt.show()\n",
    "\n",
    "print(\"⚠️ These are the **most confident** incorrect predictions.\")"
   ]
  },
  {
   "cell_type": "markdown",
   "id": "e04ab428-da22-46fb-aafe-2164ea2d47bf",
   "metadata": {},
   "source": [
    "## 🔍 2. Commonly Confused Digits\n",
    "This method finds **digits that are often mistaken for one another**.\n",
    "\n",
    "### **Why This Matters?**\n",
    "- Some digits look similar (e.g., `1` vs `7`, `4` vs `9`).\n",
    "- If CNN frequently makes these mistakes, **we may need better training data**.\n",
    "- Helps us **identify systematic errors** in digit classification.\n",
    "\n",
    "### **How It Works?**\n",
    "1. **Define common confusion pairs** (e.g., `1` vs `7`, `4` vs `9`).\n",
    "2. **Find misclassified images where the model made these mistakes**.\n",
    "3. **Display these images to analyze why CNN struggles with them**.\n"
   ]
  },
  {
   "cell_type": "code",
   "execution_count": 27,
   "id": "40222e8f-6c50-409e-b3ce-2b5e9f5e4813",
   "metadata": {},
   "outputs": [
    {
     "data": {
      "image/png": "[encoded data removed]",
      "text/plain": [
       "<Figure size 1000x500 with 5 Axes>"
      ]
     },
     "metadata": {},
     "output_type": "display_data"
    },
    {
     "name": "stdout",
     "output_type": "stream",
     "text": [
      "⚠️ CNN struggled with **similar-looking digits**.\n"
     ]
    }
   ],
   "source": [
    "# Define common confusion pairs\n",
    "confusion_pairs = [(1, 7), (4, 9), (3, 5), (8, 3), (2, 7)]\n",
    "\n",
    "# Find misclassified samples in confusion pairs\n",
    "filtered_indices = [i for i in misclassified_indices if (y_test[i], cnn_predictions[i]) in confusion_pairs]\n",
    "\n",
    "# Select up to 5 samples\n",
    "selected_samples = np.random.choice(filtered_indices, min(5, len(filtered_indices)), replace=False)\n",
    "\n",
    "# Display images\n",
    "plt.figure(figsize=(10, 5))\n",
    "for i, index in enumerate(selected_samples):\n",
    "    plt.subplot(1, 5, i+1)\n",
    "    plt.imshow(X_test[index], cmap='gray')\n",
    "    plt.title(f\"Pred: {cnn_predictions[index]}, True: {y_test[index]}\")\n",
    "    plt.axis(\"off\")\n",
    "plt.show()\n",
    "\n",
    "print(\"⚠️ CNN struggled with **similar-looking digits**.\")"
   ]
  },
  {
   "cell_type": "markdown",
   "id": "6861c2ac-9ef8-4015-b928-60461da4396d",
   "metadata": {},
   "source": [
    "## 🏴 3. Blurry or Incomplete Digits\n",
    "This method finds **digits that are blurry, low-contrast, or hard to read**.\n",
    "\n",
    "### **Why This Matters?**\n",
    "- Some images are **noisy or incomplete**, making classification difficult.\n",
    "- If CNN struggles with these, we may need **better data preprocessing**.\n",
    "- Helps identify **real-world issues with poor-quality images**.\n",
    "\n",
    "### **How It Works?**\n",
    "1. **Compute pixel intensity variance** (sharp images have high variance, blurry images have low variance).\n",
    "2. **Select misclassified images with the lowest variance**.\n",
    "3. **Display these images to analyze how CNN handles unclear digits**."
   ]
  },
  {
   "cell_type": "code",
   "execution_count": 30,
   "id": "e52e84cf-7199-4c46-b5de-28f45535e927",
   "metadata": {},
   "outputs": [
    {
     "data": {
      "image/png": "[encoded data removed]",
      "text/plain": [
       "<Figure size 1000x500 with 5 Axes>"
      ]
     },
     "metadata": {},
     "output_type": "display_data"
    },
    {
     "name": "stdout",
     "output_type": "stream",
     "text": [
      "⚠️ CNN struggled with **blurry or unclear digits**.\n"
     ]
    }
   ],
   "source": [
    "# Compute pixel intensity variance for each test image (to detect blurry digits)\n",
    "image_variance = np.var(X_test.reshape(X_test.shape[0], -1), axis=1)\n",
    "\n",
    "# Select misclassified images with low variance (blurry images)\n",
    "blurry_misclassified = misclassified_indices[np.argsort(image_variance[misclassified_indices])[:5]]\n",
    "\n",
    "# Display blurry misclassified images\n",
    "plt.figure(figsize=(10, 5))\n",
    "for i, index in enumerate(blurry_misclassified):\n",
    "    plt.subplot(1, 5, i+1)\n",
    "    plt.imshow(X_test[index], cmap='gray')\n",
    "    plt.title(f\"Pred: {cnn_predictions[index]}, True: {y_test[index]}\")\n",
    "    plt.axis(\"off\")\n",
    "plt.show()\n",
    "\n",
    "print(\"⚠️ CNN struggled with **blurry or unclear digits**.\")"
   ]
  },
  {
   "cell_type": "markdown",
   "id": "72bff9a4-be92-41c9-8d73-6c6b651a5da1",
   "metadata": {},
   "source": [
    "## 📊 Final Model Comparison\n",
    "This section prints the final test accuracy for each model."
   ]
  },
  {
   "cell_type": "code",
   "execution_count": 10,
   "id": "e6252201-2ac2-49e7-8419-2645618067db",
   "metadata": {},
   "outputs": [
    {
     "name": "stdout",
     "output_type": "stream",
     "text": [
      "📊 Final Model Comparison:\n",
      "🌲 Random Forest: 0.9688\n",
      "⚠️ FFNN model was not trained.\n",
      "⚠️ CNN model was not trained.\n"
     ]
    }
   ],
   "source": [
    "print(\"📊 Final Model Comparison:\")\n",
    "\n",
    "if \"rf_accuracy\" in locals():\n",
    "    print(f\"🌲 Random Forest: {rf_accuracy:.4f}\")\n",
    "else:\n",
    "    print(\"⚠️ Random Forest model was not trained.\")\n",
    "\n",
    "if \"ffnn_accuracy\" in locals():\n",
    "    print(f\"⚡ FFNN: {ffnn_accuracy:.4f}\")\n",
    "else:\n",
    "    print(\"⚠️ FFNN model was not trained.\")\n",
    "\n",
    "if \"cnn_accuracy\" in locals():\n",
    "    print(f\"🔥 CNN: {cnn_accuracy:.4f}\")\n",
    "else:\n",
    "    print(\"⚠️ CNN model was not trained.\")"
   ]
  },
  {
   "cell_type": "code",
   "execution_count": null,
   "id": "3d62bfb9-464a-4f4c-9cec-e024fc4b0583",
   "metadata": {},
   "outputs": [],
   "source": []
  }
 ],
 "metadata": {
  "kernelspec": {
   "display_name": "Python 3 (ipykernel)",
   "language": "python",
   "name": "python3"
  },
  "language_info": {
   "codemirror_mode": {
    "name": "ipython",
    "version": 3
   },
   "file_extension": ".py",
   "mimetype": "text/x-python",
   "name": "python",
   "nbconvert_exporter": "python",
   "pygments_lexer": "ipython3",
   "version": "3.11.6"
  }
 },
 "nbformat": 4,
 "nbformat_minor": 5
}
