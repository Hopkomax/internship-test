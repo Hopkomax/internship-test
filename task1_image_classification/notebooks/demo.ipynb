{
 "cells": [
  {
   "cell_type": "markdown",
   "id": "c8e65ca4-088d-46c8-8ade-f2fe433f0bfe",
   "metadata": {},
   "source": [
    "# MNIST Classification Demo\n",
    "### Comparing Random Forest, FFNN, and CNN on Handwritten Digit Recognition\n",
    "\n",
    "This notebook trains and evaluates three different machine learning models on the MNIST dataset.\n",
    "\n",
    "### 🔹 Models Used:\n",
    "- 🌲 **Random Forest** (Traditional Machine Learning)\n",
    "- ⚡ **Feed-Forward Neural Network (FFNN)**\n",
    "- 🔥 **Convolutional Neural Network (CNN)**\n",
    "\n",
    "We will:\n",
    "1. Load and preprocess the MNIST dataset.\n",
    "2. Train and evaluate **each model sequentially**.\n",
    "3. Discuss **edge cases** (difficult images for classification).\n",
    "4. Compare model performance at the end."
   ]
  },
  {
   "cell_type": "markdown",
   "id": "c7725d1b-3a24-4c49-ae41-b2651d64df3c",
   "metadata": {},
   "source": [
    "## 🔹 Checking Environment and Required Libraries\n",
    "This section verifies that all necessary libraries are installed and checks the Python interpreter."
   ]
  },
  {
   "cell_type": "code",
   "execution_count": 1,
   "id": "d17c3e62-a032-4f78-93dd-2cbda0373aaa",
   "metadata": {},
   "outputs": [
    {
     "name": "stdout",
     "output_type": "stream",
     "text": [
      "✅ All required packages are installed and working!\n",
      "Python Interpreter Path: F:\\gitRepo\\internship-test\\task1_image_classification\\venv\\Scripts\\python.exe\n"
     ]
    }
   ],
   "source": [
    "import numpy as np\n",
    "import matplotlib.pyplot as plt\n",
    "import tensorflow as tf\n",
    "import sklearn\n",
    "import sys\n",
    "\n",
    "print(\"✅ All required packages are installed and working!\")\n",
    "print(\"Python Interpreter Path:\", sys.executable)\n"
   ]
  },
  {
   "cell_type": "markdown",
   "id": "c9b7116b-b5da-408c-ae95-f35c3829cb78",
   "metadata": {},
   "source": [
    "## 🔹 Loading and Preprocessing MNIST Dataset\n",
    "This section:\n",
    "- Loads the MNIST dataset.\n",
    "- Normalizes pixel values to [0,1].\n",
    "- Reshapes data for CNN models."
   ]
  },
  {
   "cell_type": "code",
   "execution_count": 2,
   "id": "f02b2b54-a54e-4f1f-b22b-002d2e5a9258",
   "metadata": {},
   "outputs": [
    {
     "name": "stdout",
     "output_type": "stream",
     "text": [
      "✅ MNIST dataset loaded and normalized successfully!\n"
     ]
    }
   ],
   "source": [
    "from tensorflow.keras.datasets import mnist\n",
    "from sklearn.metrics import accuracy_score\n",
    "\n",
    "# Load the MNIST dataset\n",
    "(X_train, y_train), (X_test, y_test) = mnist.load_data()\n",
    "\n",
    "# Normalize data (scale pixel values to [0,1])\n",
    "X_train = X_train / 255.0\n",
    "X_test = X_test / 255.0\n",
    "\n",
    "# Prepare CNN data (reshape to add a single channel)\n",
    "X_train_cnn = X_train.reshape(X_train.shape[0], 28, 28, 1)\n",
    "X_test_cnn = X_test.reshape(X_test.shape[0], 28, 28, 1)\n",
    "\n",
    "print(\"✅ MNIST dataset loaded and normalized successfully!\")\n"
   ]
  },
  {
   "cell_type": "markdown",
   "id": "19bccbe4-ce05-4883-836c-7070ffb91094",
   "metadata": {},
   "source": [
    "## 🌲 Training and Evaluating Random Forest\n",
    "This section:\n",
    "- Flattens the images for Random Forest.\n",
    "- Trains a Random Forest model.\n",
    "- Evaluates and prints accuracy."
   ]
  },
  {
   "cell_type": "code",
   "execution_count": 3,
   "id": "dbbb82fb-b22e-4710-afa5-b959b5734973",
   "metadata": {},
   "outputs": [
    {
     "name": "stdout",
     "output_type": "stream",
     "text": [
      "🔥 Training Random Forest Model...\n",
      "🌲 Random Forest Accuracy: 0.9691\n"
     ]
    }
   ],
   "source": [
    "sys.path.append(\"F:/gitRepo/internship-test/task1_image_classification/src\")\n",
    "from rf_model import RandomForestModel\n",
    "\n",
    "# Prepare Random Forest data (flatten images)\n",
    "X_train_rf = X_train.reshape(X_train.shape[0], -1)\n",
    "X_test_rf = X_test.reshape(X_test.shape[0], -1)\n",
    "\n",
    "print(\"🔥 Training Random Forest Model...\")\n",
    "rf_model = RandomForestModel()\n",
    "rf_model.train(X_train_rf, y_train)\n",
    "\n",
    "# Predict & Evaluate\n",
    "rf_predictions = rf_model.predict(X_test_rf)\n",
    "rf_accuracy = accuracy_score(y_test, rf_predictions)\n",
    "print(f\"🌲 Random Forest Accuracy: {rf_accuracy:.4f}\")\n"
   ]
  },
  {
   "cell_type": "markdown",
   "id": "76d7a4a0-01a8-418d-95e7-08e08ca8fb84",
   "metadata": {},
   "source": [
    "## ⚡ Training and Evaluating Feed-Forward Neural Network (FFNN)\n",
    "This section:\n",
    "- Trains an FFNN model on MNIST.\n",
    "- Evaluates and prints accuracy."
   ]
  },
  {
   "cell_type": "code",
   "execution_count": 6,
   "id": "54c68443-b3d7-46c5-9683-0d314b874b96",
   "metadata": {},
   "outputs": [
    {
     "name": "stdout",
     "output_type": "stream",
     "text": [
      "\n",
      "⚡ Training Feed-Forward Neural Network (FFNN)...\n",
      "🔹 X_train shape (before flattening): (60000, 28, 28)\n",
      "🔹 X_train_flat shape (after flattening): (60000, 784)\n",
      "🔹 X_test_flat shape: (10000, 784)\n",
      "✅ FFNN Model Built. Expected Input Shape: (None, 784)\n",
      "✅ FFNN Model Expected Input Shape: (None, 784)\n",
      "🔹 Training Data Shape: (60000, 784)\n",
      "🔹 y_train one-hot encoded shape: (60000, 10)\n",
      "Epoch 1/10\n",
      "\u001b[1m1875/1875\u001b[0m \u001b[32m━━━━━━━━━━━━━━━━━━━━\u001b[0m\u001b[37m\u001b[0m \u001b[1m10s\u001b[0m 4ms/step - accuracy: 0.8749 - loss: 0.4407\n",
      "Epoch 2/10\n",
      "\u001b[1m1875/1875\u001b[0m \u001b[32m━━━━━━━━━━━━━━━━━━━━\u001b[0m\u001b[37m\u001b[0m \u001b[1m12s\u001b[0m 6ms/step - accuracy: 0.9627 - loss: 0.1241\n",
      "Epoch 3/10\n",
      "\u001b[1m1875/1875\u001b[0m \u001b[32m━━━━━━━━━━━━━━━━━━━━\u001b[0m\u001b[37m\u001b[0m \u001b[1m17s\u001b[0m 4ms/step - accuracy: 0.9761 - loss: 0.0816\n",
      "Epoch 4/10\n",
      "\u001b[1m1875/1875\u001b[0m \u001b[32m━━━━━━━━━━━━━━━━━━━━\u001b[0m\u001b[37m\u001b[0m \u001b[1m10s\u001b[0m 6ms/step - accuracy: 0.9819 - loss: 0.0590\n",
      "Epoch 5/10\n",
      "\u001b[1m1875/1875\u001b[0m \u001b[32m━━━━━━━━━━━━━━━━━━━━\u001b[0m\u001b[37m\u001b[0m \u001b[1m33s\u001b[0m 12ms/step - accuracy: 0.9864 - loss: 0.0430\n",
      "Epoch 6/10\n",
      "\u001b[1m1875/1875\u001b[0m \u001b[32m━━━━━━━━━━━━━━━━━━━━\u001b[0m\u001b[37m\u001b[0m \u001b[1m11s\u001b[0m 6ms/step - accuracy: 0.9890 - loss: 0.0337\n",
      "Epoch 7/10\n",
      "\u001b[1m1875/1875\u001b[0m \u001b[32m━━━━━━━━━━━━━━━━━━━━\u001b[0m\u001b[37m\u001b[0m \u001b[1m9s\u001b[0m 5ms/step - accuracy: 0.9910 - loss: 0.0289\n",
      "Epoch 8/10\n",
      "\u001b[1m1875/1875\u001b[0m \u001b[32m━━━━━━━━━━━━━━━━━━━━\u001b[0m\u001b[37m\u001b[0m \u001b[1m10s\u001b[0m 4ms/step - accuracy: 0.9936 - loss: 0.0217\n",
      "Epoch 9/10\n",
      "\u001b[1m1875/1875\u001b[0m \u001b[32m━━━━━━━━━━━━━━━━━━━━\u001b[0m\u001b[37m\u001b[0m \u001b[1m9s\u001b[0m 5ms/step - accuracy: 0.9948 - loss: 0.0181\n",
      "Epoch 10/10\n",
      "\u001b[1m1875/1875\u001b[0m \u001b[32m━━━━━━━━━━━━━━━━━━━━\u001b[0m\u001b[37m\u001b[0m \u001b[1m8s\u001b[0m 4ms/step - accuracy: 0.9955 - loss: 0.0157\n",
      "✅ FFNN Training Completed Successfully!\n",
      "\n",
      "📊 Evaluating FFNN Model...\n",
      "🔹 Test Data Shape: (10000, 784)\n",
      "\u001b[1m313/313\u001b[0m \u001b[32m━━━━━━━━━━━━━━━━━━━━\u001b[0m\u001b[37m\u001b[0m \u001b[1m1s\u001b[0m 2ms/step   \n",
      "⚡ FFNN Model Accuracy: 0.9771\n",
      "\n",
      "✅ FFNN Model Training & Evaluation Completed!\n"
     ]
    }
   ],
   "source": [
    "from ffnn_model import FFNNModel\n",
    "\n",
    "print(\"\\n⚡ Training Feed-Forward Neural Network (FFNN)...\")\n",
    "\n",
    "# ✅ Flatten images before training\n",
    "X_train_flat = X_train.reshape(X_train.shape[0], -1)  # Shape (60000, 784)\n",
    "X_test_flat = X_test.reshape(X_test.shape[0], -1)  # Shape (10000, 784)\n",
    "\n",
    "# Debugging: Print data shapes before training\n",
    "print(f\"🔹 X_train shape (before flattening): {X_train.shape}\")\n",
    "print(f\"🔹 X_train_flat shape (after flattening): {X_train_flat.shape}\")\n",
    "print(f\"🔹 X_test_flat shape: {X_test_flat.shape}\")\n",
    "\n",
    "# Instantiate FFNN model\n",
    "ffnn_model = FFNNModel()\n",
    "\n",
    "# Debugging: Print expected input shape\n",
    "print(f\"✅ FFNN Model Expected Input Shape: {ffnn_model.model.input_shape}\")\n",
    "\n",
    "# Train the FFNN model\n",
    "ffnn_model.train(X_train_flat, y_train)\n",
    "print(\"✅ FFNN Training Completed Successfully!\\n\")\n",
    "\n",
    "# Predict on the test set\n",
    "print(\"📊 Evaluating FFNN Model...\")\n",
    "ffnn_predictions = ffnn_model.predict(X_test_flat)\n",
    "\n",
    "# Compute accuracy\n",
    "ffnn_accuracy = accuracy_score(y_test, ffnn_predictions)\n",
    "print(f\"⚡ FFNN Model Accuracy: {ffnn_accuracy:.4f}\")\n",
    "\n",
    "# Confirm execution completion\n",
    "print(\"\\n✅ FFNN Model Training & Evaluation Completed!\")"
   ]
  },
  {
   "cell_type": "markdown",
   "id": "17a768a6-3611-46a5-867f-a6fdf3d5d2c3",
   "metadata": {},
   "source": [
    "## 🔥 Training and Evaluating Convolutional Neural Network (CNN)\n",
    "This section:\n",
    "- Trains a CNN model.\n",
    "- Evaluates and prints accuracy."
   ]
  },
  {
   "cell_type": "code",
   "execution_count": 7,
   "id": "a47a942f-1f14-4563-8709-196cdafb2f32",
   "metadata": {},
   "outputs": [
    {
     "name": "stdout",
     "output_type": "stream",
     "text": [
      "🔥 Training Convolutional Neural Network (CNN)...\n",
      "Epoch 1/10\n",
      "\u001b[1m1875/1875\u001b[0m \u001b[32m━━━━━━━━━━━━━━━━━━━━\u001b[0m\u001b[37m\u001b[0m \u001b[1m82s\u001b[0m 42ms/step - accuracy: 0.9115 - loss: 0.3013 \n",
      "Epoch 2/10\n",
      "\u001b[1m1875/1875\u001b[0m \u001b[32m━━━━━━━━━━━━━━━━━━━━\u001b[0m\u001b[37m\u001b[0m \u001b[1m79s\u001b[0m 42ms/step - accuracy: 0.9799 - loss: 0.0663 \n",
      "Epoch 3/10\n",
      "\u001b[1m1875/1875\u001b[0m \u001b[32m━━━━━━━━━━━━━━━━━━━━\u001b[0m\u001b[37m\u001b[0m \u001b[1m120s\u001b[0m 64ms/step - accuracy: 0.9857 - loss: 0.0494\n",
      "Epoch 4/10\n",
      "\u001b[1m1875/1875\u001b[0m \u001b[32m━━━━━━━━━━━━━━━━━━━━\u001b[0m\u001b[37m\u001b[0m \u001b[1m170s\u001b[0m 79ms/step - accuracy: 0.9886 - loss: 0.0399\n",
      "Epoch 5/10\n",
      "\u001b[1m1875/1875\u001b[0m \u001b[32m━━━━━━━━━━━━━━━━━━━━\u001b[0m\u001b[37m\u001b[0m \u001b[1m177s\u001b[0m 66ms/step - accuracy: 0.9903 - loss: 0.0333\n",
      "Epoch 6/10\n",
      "\u001b[1m1875/1875\u001b[0m \u001b[32m━━━━━━━━━━━━━━━━━━━━\u001b[0m\u001b[37m\u001b[0m \u001b[1m163s\u001b[0m 87ms/step - accuracy: 0.9906 - loss: 0.0321\n",
      "Epoch 7/10\n",
      "\u001b[1m1875/1875\u001b[0m \u001b[32m━━━━━━━━━━━━━━━━━━━━\u001b[0m\u001b[37m\u001b[0m \u001b[1m133s\u001b[0m 71ms/step - accuracy: 0.9921 - loss: 0.0271\n",
      "Epoch 8/10\n",
      "\u001b[1m1875/1875\u001b[0m \u001b[32m━━━━━━━━━━━━━━━━━━━━\u001b[0m\u001b[37m\u001b[0m \u001b[1m113s\u001b[0m 60ms/step - accuracy: 0.9923 - loss: 0.0238\n",
      "Epoch 9/10\n",
      "\u001b[1m1875/1875\u001b[0m \u001b[32m━━━━━━━━━━━━━━━━━━━━\u001b[0m\u001b[37m\u001b[0m \u001b[1m133s\u001b[0m 71ms/step - accuracy: 0.9942 - loss: 0.0199\n",
      "Epoch 10/10\n",
      "\u001b[1m1875/1875\u001b[0m \u001b[32m━━━━━━━━━━━━━━━━━━━━\u001b[0m\u001b[37m\u001b[0m \u001b[1m117s\u001b[0m 62ms/step - accuracy: 0.9946 - loss: 0.0184\n",
      "\u001b[1m313/313\u001b[0m \u001b[32m━━━━━━━━━━━━━━━━━━━━\u001b[0m\u001b[37m\u001b[0m \u001b[1m7s\u001b[0m 21ms/step\n",
      "🔥 CNN Accuracy: 0.9922\n"
     ]
    }
   ],
   "source": [
    "from cnn_model import CNNModel\n",
    "\n",
    "print(\"🔥 Training Convolutional Neural Network (CNN)...\")\n",
    "cnn_model = CNNModel()\n",
    "cnn_model.train(X_train_cnn, y_train)\n",
    "\n",
    "# Predict & Evaluate\n",
    "cnn_predictions = cnn_model.predict(X_test_cnn)\n",
    "cnn_accuracy = accuracy_score(y_test, cnn_predictions)\n",
    "print(f\"🔥 CNN Accuracy: {cnn_accuracy:.4f}\")\n"
   ]
  },
  {
   "cell_type": "markdown",
   "id": "24d42475-7ca7-4381-b985-c329547f3e1d",
   "metadata": {},
   "source": [
    "## 📊 Comparing Model Predictions on the Same Image\n",
    "This section:\n",
    "- Selects a **random test image**.\n",
    "- Displays how **each model (RF, FFNN, CNN) classified it**."
   ]
  },
  {
   "cell_type": "code",
   "execution_count": 8,
   "id": "159feef2-654d-409e-b38b-c883c957bd65",
   "metadata": {
    "scrolled": true
   },
   "outputs": [
    {
     "data": {
      "image/png": "[encoded data removed]",
      "text/plain": [
       "<Figure size 1200x400 with 3 Axes>"
      ]
     },
     "metadata": {},
     "output_type": "display_data"
    }
   ],
   "source": [
    "import random\n",
    "\n",
    "sample_index = random.randint(0, len(X_test) - 1)\n",
    "\n",
    "# Plot results for all models\n",
    "plt.figure(figsize=(12, 4))\n",
    "\n",
    "plt.subplot(1, 3, 1)\n",
    "plt.imshow(X_test[sample_index], cmap='gray')\n",
    "plt.title(f\"RF: {rf_predictions[sample_index]} (True: {y_test[sample_index]})\")\n",
    "plt.axis(\"off\")\n",
    "\n",
    "plt.subplot(1, 3, 2)\n",
    "plt.imshow(X_test[sample_index], cmap='gray')\n",
    "plt.title(f\"FFNN: {ffnn_predictions[sample_index]} (True: {y_test[sample_index]})\")\n",
    "plt.axis(\"off\")\n",
    "\n",
    "plt.subplot(1, 3, 3)\n",
    "plt.imshow(X_test[sample_index], cmap='gray')\n",
    "plt.title(f\"CNN: {cnn_predictions[sample_index]} (True: {y_test[sample_index]})\")\n",
    "plt.axis(\"off\")\n",
    "\n",
    "plt.show()\n"
   ]
  },
  {
   "cell_type": "markdown",
   "id": "4c8646ed-43c1-4e0b-bd73-d7bbca136b4b",
   "metadata": {},
   "source": [
    "#  **EDGE CASE ANALYSIS**\n"
   ]
  },
  {
   "cell_type": "markdown",
   "id": "6499fa89-0b6a-4c1a-a524-0e8f36aeac14",
   "metadata": {},
   "source": [
    "## 🔥 1. Most Confident Wrong Predictions\n",
    "This method **identifies cases where the CNN was very confident, but still wrong**.\n",
    "\n",
    "### **Why This Matters?**\n",
    "- Some mistakes are caused by the model **being too confident in a wrong answer**.\n",
    "- This helps **debug overconfidence issues**.\n",
    "- It tells us whether the model needs **better calibration**.\n",
    "\n",
    "### **How It Works?**\n",
    "1. **Get the model’s confidence score (softmax probability) for each test image**.\n",
    "2. **Select the misclassified images where CNN had the highest confidence**.\n",
    "3. **Display these images with their incorrect predictions**."
   ]
  },
  {
   "cell_type": "code",
   "execution_count": 9,
   "id": "d261142b-9fbc-401a-8397-6d726df509e6",
   "metadata": {},
   "outputs": [
    {
     "name": "stdout",
     "output_type": "stream",
     "text": [
      "\u001b[1m313/313\u001b[0m \u001b[32m━━━━━━━━━━━━━━━━━━━━\u001b[0m\u001b[37m\u001b[0m \u001b[1m4s\u001b[0m 13ms/step\n"
     ]
    },
    {
     "data": {
      "image/png": "[encoded data removed]",
      "text/plain": [
       "<Figure size 1000x500 with 5 Axes>"
      ]
     },
     "metadata": {},
     "output_type": "display_data"
    },
    {
     "name": "stdout",
     "output_type": "stream",
     "text": [
      "⚠️ These are the **most confident** incorrect predictions.\n"
     ]
    }
   ],
   "source": [
    "# Get softmax probabilities from CNN\n",
    "softmax_outputs = cnn_model.model.predict(X_test_cnn)\n",
    "\n",
    "# Find misclassified images\n",
    "misclassified_indices = np.where(cnn_predictions != y_test)[0]\n",
    "\n",
    "# Get confidence scores for misclassified images\n",
    "misclassified_confidence = softmax_outputs[misclassified_indices, cnn_predictions[misclassified_indices]]\n",
    "\n",
    "# Select top 5 most confident wrong predictions\n",
    "top_misclassified = misclassified_indices[np.argsort(-misclassified_confidence)[:5]]\n",
    "\n",
    "# Display most confident wrong predictions\n",
    "plt.figure(figsize=(10, 5))\n",
    "for i, index in enumerate(top_misclassified):\n",
    "    plt.subplot(1, 5, i+1)\n",
    "    plt.imshow(X_test[index], cmap='gray')\n",
    "    plt.title(f\"Pred: {cnn_predictions[index]}, True: {y_test[index]}\\nConf: {misclassified_confidence[i]:.2f}\")\n",
    "    plt.axis(\"off\")\n",
    "plt.show()\n",
    "\n",
    "print(\"⚠️ These are the **most confident** incorrect predictions.\")"
   ]
  },
  {
   "cell_type": "markdown",
   "id": "e04ab428-da22-46fb-aafe-2164ea2d47bf",
   "metadata": {},
   "source": [
    "## 🔍 2. Commonly Confused Digits\n",
    "This method finds **digits that are often mistaken for one another**.\n",
    "\n",
    "### **Why This Matters?**\n",
    "- Some digits look similar (e.g., `1` vs `7`, `4` vs `9`).\n",
    "- If CNN frequently makes these mistakes, **we may need better training data**.\n",
    "- Helps us **identify systematic errors** in digit classification.\n",
    "\n",
    "### **How It Works?**\n",
    "1. **Define common confusion pairs** (e.g., `1` vs `7`, `4` vs `9`).\n",
    "2. **Find misclassified images where the model made these mistakes**.\n",
    "3. **Display these images to analyze why CNN struggles with them**.\n"
   ]
  },
  {
   "cell_type": "code",
   "execution_count": 10,
   "id": "40222e8f-6c50-409e-b3ce-2b5e9f5e4813",
   "metadata": {},
   "outputs": [
    {
     "data": {
      "image/png": "[encoded data removed]",
      "text/plain": [
       "<Figure size 1000x500 with 5 Axes>"
      ]
     },
     "metadata": {},
     "output_type": "display_data"
    },
    {
     "name": "stdout",
     "output_type": "stream",
     "text": [
      "⚠️ CNN struggled with **similar-looking digits**.\n"
     ]
    }
   ],
   "source": [
    "# Define common confusion pairs\n",
    "confusion_pairs = [(1, 7), (4, 9), (3, 5), (8, 3), (2, 7)]\n",
    "\n",
    "# Find misclassified samples in confusion pairs\n",
    "filtered_indices = [i for i in misclassified_indices if (y_test[i], cnn_predictions[i]) in confusion_pairs]\n",
    "\n",
    "# Select up to 5 samples\n",
    "selected_samples = np.random.choice(filtered_indices, min(5, len(filtered_indices)), replace=False)\n",
    "\n",
    "# Display images\n",
    "plt.figure(figsize=(10, 5))\n",
    "for i, index in enumerate(selected_samples):\n",
    "    plt.subplot(1, 5, i+1)\n",
    "    plt.imshow(X_test[index], cmap='gray')\n",
    "    plt.title(f\"Pred: {cnn_predictions[index]}, True: {y_test[index]}\")\n",
    "    plt.axis(\"off\")\n",
    "plt.show()\n",
    "\n",
    "print(\"⚠️ CNN struggled with **similar-looking digits**.\")"
   ]
  },
  {
   "cell_type": "markdown",
   "id": "6861c2ac-9ef8-4015-b928-60461da4396d",
   "metadata": {},
   "source": [
    "## 🏴 3. Blurry or Incomplete Digits\n",
    "This method finds **digits that are blurry, low-contrast, or hard to read**.\n",
    "\n",
    "### **Why This Matters?**\n",
    "- Some images are **noisy or incomplete**, making classification difficult.\n",
    "- If CNN struggles with these, we may need **better data preprocessing**.\n",
    "- Helps identify **real-world issues with poor-quality images**.\n",
    "\n",
    "### **How It Works?**\n",
    "1. **Compute pixel intensity variance** (sharp images have high variance, blurry images have low variance).\n",
    "2. **Select misclassified images with the lowest variance**.\n",
    "3. **Display these images to analyze how CNN handles unclear digits**."
   ]
  },
  {
   "cell_type": "code",
   "execution_count": 11,
   "id": "e52e84cf-7199-4c46-b5de-28f45535e927",
   "metadata": {},
   "outputs": [
    {
     "data": {
      "image/png": "[encoded data removed]",
      "text/plain": [
       "<Figure size 1000x500 with 5 Axes>"
      ]
     },
     "metadata": {},
     "output_type": "display_data"
    },
    {
     "name": "stdout",
     "output_type": "stream",
     "text": [
      "⚠️ CNN struggled with **blurry or unclear digits**.\n"
     ]
    }
   ],
   "source": [
    "# Compute pixel intensity variance for each test image (to detect blurry digits)\n",
    "image_variance = np.var(X_test.reshape(X_test.shape[0], -1), axis=1)\n",
    "\n",
    "# Select misclassified images with low variance (blurry images)\n",
    "blurry_misclassified = misclassified_indices[np.argsort(image_variance[misclassified_indices])[:5]]\n",
    "\n",
    "# Display blurry misclassified images\n",
    "plt.figure(figsize=(10, 5))\n",
    "for i, index in enumerate(blurry_misclassified):\n",
    "    plt.subplot(1, 5, i+1)\n",
    "    plt.imshow(X_test[index], cmap='gray')\n",
    "    plt.title(f\"Pred: {cnn_predictions[index]}, True: {y_test[index]}\")\n",
    "    plt.axis(\"off\")\n",
    "plt.show()\n",
    "\n",
    "print(\"⚠️ CNN struggled with **blurry or unclear digits**.\")"
   ]
  },
  {
   "cell_type": "markdown",
   "id": "72bff9a4-be92-41c9-8d73-6c6b651a5da1",
   "metadata": {},
   "source": [
    "## 📊 Final Model Comparison\n",
    "This section prints the final test accuracy for each model."
   ]
  },
  {
   "cell_type": "code",
   "execution_count": 12,
   "id": "e6252201-2ac2-49e7-8419-2645618067db",
   "metadata": {},
   "outputs": [
    {
     "name": "stdout",
     "output_type": "stream",
     "text": [
      "📊 Final Model Comparison:\n",
      "🌲 Random Forest: 0.9691\n",
      "⚡ FFNN: 0.9771\n",
      "🔥 CNN: 0.9922\n"
     ]
    }
   ],
   "source": [
    "print(\"📊 Final Model Comparison:\")\n",
    "\n",
    "if \"rf_accuracy\" in locals():\n",
    "    print(f\"🌲 Random Forest: {rf_accuracy:.4f}\")\n",
    "else:\n",
    "    print(\"⚠️ Random Forest model was not trained.\")\n",
    "\n",
    "if \"ffnn_accuracy\" in locals():\n",
    "    print(f\"⚡ FFNN: {ffnn_accuracy:.4f}\")\n",
    "else:\n",
    "    print(\"⚠️ FFNN model was not trained.\")\n",
    "\n",
    "if \"cnn_accuracy\" in locals():\n",
    "    print(f\"🔥 CNN: {cnn_accuracy:.4f}\")\n",
    "else:\n",
    "    print(\"⚠️ CNN model was not trained.\")"
   ]
  },
  {
   "cell_type": "code",
   "execution_count": null,
   "id": "3d62bfb9-464a-4f4c-9cec-e024fc4b0583",
   "metadata": {},
   "outputs": [],
   "source": []
  }
 ],
 "metadata": {
  "kernelspec": {
   "display_name": "Python 3 (ipykernel)",
   "language": "python",
   "name": "python3"
  },
  "language_info": {
   "codemirror_mode": {
    "name": "ipython",
    "version": 3
   },
   "file_extension": ".py",
   "mimetype": "text/x-python",
   "name": "python",
   "nbconvert_exporter": "python",
   "pygments_lexer": "ipython3",
   "version": "3.11.6"
  }
 },
 "nbformat": 4,
 "nbformat_minor": 5
}
